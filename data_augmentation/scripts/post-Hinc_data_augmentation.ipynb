{
 "cells": [
  {
   "cell_type": "markdown",
   "metadata": {},
   "source": [
    "##### Note: \n",
    "The purpose of this script is to parse the source data directories, full of .TIFs, and for each .TIF, chop it up into equally sized subimages, then take each subimage and produce 4 separate rotated images, and finally put all of them into the approprate new directory. "
   ]
  },
  {
   "cell_type": "code",
   "execution_count": 1,
   "metadata": {},
   "outputs": [],
   "source": [
    "# Necessary Imports:\n",
    "\n",
    "from PIL import Image\n",
    "import os\n",
    "import matplotlib.pyplot as plt\n",
    "import math"
   ]
  },
  {
   "cell_type": "markdown",
   "metadata": {},
   "source": [
    "##### Setting Globals:"
   ]
  },
  {
   "cell_type": "code",
   "execution_count": 3,
   "metadata": {},
   "outputs": [
    {
     "name": "stdout",
     "output_type": "stream",
     "text": [
      "Dimension of new images: 256 x 256\n",
      "Number of augmented image from 1 source image: 80\n",
      "Number of augmented image from entire directory : ~89920\n"
     ]
    }
   ],
   "source": [
    "# the dimensions of the source images (5:4)\n",
    "source_image_dimensions = (1280, 1024)\n",
    "# 1024x1024 are the recommended largest dimensions\n",
    "crop_dimensions = (256, 256)\n",
    "pool = False  # set to true if you want pooling to take place\n",
    "pool_dimensions = (256, 256)  # 32x32 are the recommended smallest dimensions\n",
    "number_of_images_from_source = 20\n",
    "dispersion_times = ['01', '03', '08', '15']\n",
    "print(\"Dimension of new images: \" +\n",
    "      str(crop_dimensions[0]) + \" x \" + str(crop_dimensions[1]))\n",
    "images_from_source_image = 4*math.floor(source_image_dimensions[0]/crop_dimensions[0])*math.floor(source_image_dimensions[1]/crop_dimensions[1])\n",
    "print(\"Number of augmented image from 1 source image: \" + str(images_from_source_image))\n",
    "print(\"Number of augmented image from entire directory : ~\" + str(4*281*images_from_source_image))"
   ]
  },
  {
   "cell_type": "code",
   "execution_count": 4,
   "metadata": {},
   "outputs": [],
   "source": [
    "# Setting locations for input and output directories\n",
    "\n",
    "source_data_location = '/Users/johnmays/Documents/Wirth Lab/still_data/dataset_1/'\n",
    "augmented_data_location = '/Users/johnmays/Documents/Wirth Lab/still_data/Post-Hinc_small_dasets/'"
   ]
  },
  {
   "cell_type": "code",
   "execution_count": 7,
   "metadata": {},
   "outputs": [],
   "source": [
    "# Create Directories:\n",
    "\n",
    "os.chdir(augmented_data_location)\n",
    "new_dir_name = \"Post-Hinc_\" + str(crop_dimensions[0]) + \"_\" + str(crop_dimensions[1])\n",
    "if pool:\n",
    "    new_dir_name = new_dir_name + \"pooled_to\" + \\\n",
    "        str(pool_dimensions[0]) + \"_\" + str(pool_dimensions[1])\n",
    "os.makedirs(new_dir_name)\n",
    "os.chdir(augmented_data_location + new_dir_name)\n",
    "for dispersion_time in dispersion_times:\n",
    "    os.makedirs(dispersion_time)"
   ]
  },
  {
   "cell_type": "code",
   "execution_count": 8,
   "metadata": {},
   "outputs": [
    {
     "name": "stdout",
     "output_type": "stream",
     "text": [
      "Smallest number of image in a subdirectory:  281\n"
     ]
    }
   ],
   "source": [
    "# Find smallest number of images in a source directory; which will be the limiting number, in order to evenly represent the dispersion times\n",
    "\n",
    "min_number_of_images_in_subdirectory = 1000000\n",
    "\n",
    "os.chdir(source_data_location)\n",
    "for subdirectory in os.listdir(source_data_location):\n",
    "    if(subdirectory != '.DS_Store'):\n",
    "        number_of_images_in_subdirectory = 0\n",
    "        for filename in os.listdir(source_data_location + subdirectory):\n",
    "            if filename.endswith('.tif'):\n",
    "                number_of_images_in_subdirectory += 1\n",
    "        if number_of_images_in_subdirectory < min_number_of_images_in_subdirectory:\n",
    "            min_number_of_images_in_subdirectory = number_of_images_in_subdirectory\n",
    "\n",
    "print(\"Smallest number of image in a subdirectory: \", min_number_of_images_in_subdirectory)"
   ]
  },
  {
   "cell_type": "code",
   "execution_count": 10,
   "metadata": {},
   "outputs": [
    {
     "name": "stdout",
     "output_type": "stream",
     "text": [
      "[(0, 0, 256, 256), (0, 256, 256, 512), (0, 512, 256, 768), (0, 768, 256, 1024), (256, 0, 512, 256), (256, 256, 512, 512), (256, 512, 512, 768), (256, 768, 512, 1024), (512, 0, 768, 256), (512, 256, 768, 512), (512, 512, 768, 768), (512, 768, 768, 1024), (768, 0, 1024, 256), (768, 256, 1024, 512), (768, 512, 1024, 768), (768, 768, 1024, 1024), (1024, 0, 1280, 256), (1024, 256, 1280, 512), (1024, 512, 1280, 768), (1024, 768, 1280, 1024)]\n"
     ]
    }
   ],
   "source": [
    "# Creating the list of (L, T, R, B) tuples to describe the coordinates of the crops\n",
    "\n",
    "crop_coordinates = []\n",
    "top_corner = (0, 0)\n",
    "bottom_corner = crop_dimensions\n",
    "\n",
    "for x in range(0, source_image_dimensions[0], crop_dimensions[0]):\n",
    "    for y in range(0, source_image_dimensions[1], crop_dimensions[1]):\n",
    "        corner_coordinates = (\n",
    "            x, y) + (x+crop_dimensions[0], y+crop_dimensions[1])\n",
    "        crop_coordinates.append(corner_coordinates)\n",
    "\n",
    "print(crop_coordinates)"
   ]
  },
  {
   "cell_type": "code",
   "execution_count": null,
   "metadata": {},
   "outputs": [],
   "source": [
    "# cropping, rotating, and depositing images:\n",
    "\n",
    "for dispersion_time in dispersion_times:\n",
    "    destination_dir = augmented_data_location + new_dir_name + \"/\" + dispersion_time\n",
    "    i = 0\n",
    "    for filename in os.listdir(source_data_location + dispersion_time):\n",
    "        i += 1\n",
    "        if i > min_number_of_images_in_subdirectory:\n",
    "            break\n",
    "        elif filename.endswith('.tif'):\n",
    "            os.chdir(source_data_location + dispersion_time)\n",
    "            img = Image.open(filename)\n",
    "            os.chdir(destination_dir)\n",
    "            for i in range(len(crop_coordinates)):\n",
    "                # L, T, R, B (does not include pixel on bottom-right coordinate)\n",
    "                cropped_img = img.crop(crop_coordinates[i])\n",
    "                if not pool:\n",
    "                    cropped_img.save(\n",
    "                        filename[0:-4] + '_' + str(crop_dimensions[0]) + '_cropped_0_' + str(i) + '.tif')\n",
    "                    cropped_img.rotate(90).save(\n",
    "                        filename[0:-4] + '_' + str(crop_dimensions[0]) + '_cropped_90' + str(i) + '.tif')\n",
    "                    cropped_img.rotate(180).save(\n",
    "                        filename[0:-4] + '_' + str(crop_dimensions[0]) + '_cropped_180' + str(i) + '.tif')\n",
    "                    cropped_img.rotate(270).save(\n",
    "                        filename[0:-4] + '_' + str(crop_dimensions[0]) + '_cropped_270' + str(i) + '.tif')\n",
    "                else:\n",
    "                    resized_img = cropped_img.resize(pool_dimensions)\n",
    "                    resized_img.save(\n",
    "                        filename[0:-4] + '_' + str(pool_dimensions[0]) + '_cropped_pooled_0' + str(i) + '.tif')\n",
    "                    resized_img.rotate(90).save(\n",
    "                        filename[0:-4] + '_' + str(pool_dimensions[0]) + '_cropped_pooled_90' + str(i) + '.tif')\n",
    "                    resized_img.rotate(180).save(\n",
    "                        filename[0:-4] + '_' + str(pool_dimensions[0]) + '_cropped_pooled_180' + str(i) + '.tif')\n",
    "                    resized_img.rotate(270).save(\n",
    "                        filename[0:-4] + '_' + str(pool_dimensions[0]) + '_cropped_pooled_270' + str(i) + '.tif')\n",
    "        else:\n",
    "            continue"
   ]
  }
 ],
 "metadata": {
  "interpreter": {
   "hash": "dc1b947dce198ff7f2d2cb152b2cbb61132fce4429fa808fd5b89ac4d7df39fa"
  },
  "kernelspec": {
   "display_name": "Python 3.7.10 ('tf')",
   "language": "python",
   "name": "python3"
  },
  "language_info": {
   "codemirror_mode": {
    "name": "ipython",
    "version": 3
   },
   "file_extension": ".py",
   "mimetype": "text/x-python",
   "name": "python",
   "nbconvert_exporter": "python",
   "pygments_lexer": "ipython3",
   "version": "3.7.10"
  },
  "orig_nbformat": 4
 },
 "nbformat": 4,
 "nbformat_minor": 2
}
