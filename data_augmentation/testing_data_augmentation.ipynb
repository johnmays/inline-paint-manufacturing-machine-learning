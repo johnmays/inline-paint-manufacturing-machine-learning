{
 "cells": [
  {
   "cell_type": "code",
   "execution_count": 3,
   "id": "3d4021cc",
   "metadata": {},
   "outputs": [],
   "source": [
    "from PIL import Image\n",
    "import os\n",
    "import matplotlib.pyplot as plt"
   ]
  },
  {
   "cell_type": "code",
   "execution_count": 17,
   "id": "329bc7e8",
   "metadata": {},
   "outputs": [],
   "source": [
    "os.chdir('/Users/johnmays/Documents/GitHub/inline_paint_manufacturing_machine_learning/still_paint')\n",
    "os.getcwd()\n",
    "os.chdir('test_image')"
   ]
  },
  {
   "cell_type": "code",
   "execution_count": 18,
   "id": "3c153170",
   "metadata": {},
   "outputs": [
    {
     "name": "stdout",
     "output_type": "stream",
     "text": [
      "1024\n"
     ]
    }
   ],
   "source": [
    "img = Image.open('071521_image_0.tif')\n",
    "width, height = img.size # height = 1024, width = 1280\n",
    "print(height)"
   ]
  },
  {
   "cell_type": "code",
   "execution_count": 20,
   "id": "8d86e756",
   "metadata": {},
   "outputs": [],
   "source": [
    "# os.makedirs('augmented_images')\n",
    "os.chdir('augmented_images')"
   ]
  },
  {
   "cell_type": "code",
   "execution_count": 22,
   "id": "3c774288",
   "metadata": {},
   "outputs": [],
   "source": [
    "cropped_img = img.crop((128, 0, 1152, 1024)) # L, T, R, B (does not include bottom-right coordinate)\n",
    "cropped_img.save('cropped_img.tif')"
   ]
  },
  {
   "cell_type": "code",
   "execution_count": 24,
   "id": "46baa717",
   "metadata": {},
   "outputs": [],
   "source": [
    "cropped_img.rotate(90).save('cropped_img_90.tif')\n",
    "cropped_img.rotate(180).save('cropped_img_180.tif')\n",
    "cropped_img.rotate(270).save('cropped_img_270.tif')"
   ]
  },
  {
   "cell_type": "code",
   "execution_count": null,
   "id": "c06773ac",
   "metadata": {},
   "outputs": [],
   "source": []
  }
 ],
 "metadata": {
  "kernelspec": {
   "display_name": "Python 3",
   "language": "python",
   "name": "python3"
  },
  "language_info": {
   "codemirror_mode": {
    "name": "ipython",
    "version": 3
   },
   "file_extension": ".py",
   "mimetype": "text/x-python",
   "name": "python",
   "nbconvert_exporter": "python",
   "pygments_lexer": "ipython3",
   "version": "3.8.8"
  }
 },
 "nbformat": 4,
 "nbformat_minor": 5
}
