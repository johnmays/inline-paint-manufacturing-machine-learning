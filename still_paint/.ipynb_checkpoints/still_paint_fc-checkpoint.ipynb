{
 "cells": [
  {
   "cell_type": "code",
   "execution_count": null,
   "id": "586cca64",
   "metadata": {},
   "outputs": [],
   "source": [
    "# Some parts of this code are taken from SentDex's tutorial on importing image files for use in tf: https://pythonprogramming.net/loading-custom-data-deep-learning-python-tensorflow-keras/\n"
   ]
  },
  {
   "cell_type": "code",
   "execution_count": null,
   "id": "b2920bed",
   "metadata": {},
   "outputs": [],
   "source": [
    "import tensorflow as tf\n",
    "from tensorflow import keras\n",
    "import os\n",
    "import matplotlib.pyplot as plt"
   ]
  },
  {
   "cell_type": "code",
   "execution_count": null,
   "id": "ef1347d3",
   "metadata": {},
   "outputs": [],
   "source": [
    "data_directory = '/home/jkm100/augmented_dataset_1'\n",
    "dispersion_times = ['01', '03', '08', '15'] # these are the categories\n",
    "os.chdir(data_directory)"
   ]
  },
  {
   "cell_type": "code",
   "execution_count": null,
   "id": "69f30f84",
   "metadata": {},
   "outputs": [],
   "source": [
    "os.getcwd()"
   ]
  },
  {
   "cell_type": "code",
   "execution_count": null,
   "id": "9f6d45da",
   "metadata": {},
   "outputs": [],
   "source": [
    "train_batches = keras.preprocessing.image.ImageDataGenerator(preprocessing_function = tf.keras.applications.vgg16.preprocess_input).flow_from_directory(directory = data_directory, target_size = (224,224), classes = dispersion_times, batch_size = 10)\n",
    "#1:11:39"
   ]
  }
 ],
 "metadata": {
  "kernelspec": {
   "display_name": "Python 3",
   "language": "python",
   "name": "python3"
  },
  "language_info": {
   "codemirror_mode": {
    "name": "ipython",
    "version": 3
   },
   "file_extension": ".py",
   "mimetype": "text/x-python",
   "name": "python",
   "nbconvert_exporter": "python",
   "pygments_lexer": "ipython3",
   "version": "3.8.8"
  }
 },
 "nbformat": 4,
 "nbformat_minor": 5
}
