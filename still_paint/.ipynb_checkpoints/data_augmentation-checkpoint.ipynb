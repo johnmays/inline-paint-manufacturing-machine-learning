{
 "cells": [
  {
   "cell_type": "code",
   "execution_count": 1,
   "id": "2b7bc8f2",
   "metadata": {},
   "outputs": [],
   "source": [
    "from PIL import Image\n",
    "import os\n",
    "import matplotlib.pyplot as plt"
   ]
  },
  {
   "cell_type": "code",
   "execution_count": 12,
   "id": "bc9d39e4",
   "metadata": {},
   "outputs": [
    {
     "data": {
      "text/plain": [
       "'/Users/johnmays/Documents/Wirth Lab/still_data/dataset_1/01'"
      ]
     },
     "execution_count": 12,
     "metadata": {},
     "output_type": "execute_result"
    }
   ],
   "source": [
    "source_data_location = '/Users/johnmays/Documents/Wirth Lab/still_data/dataset_1/01'\n",
    "\n",
    "\n",
    "os.chdir(source_data_location)\n",
    "os.getcwd()"
   ]
  },
  {
   "cell_type": "code",
   "execution_count": 19,
   "id": "3cbb9506",
   "metadata": {},
   "outputs": [],
   "source": [
    "# made a directory for augmented data:\n",
    "#\n",
    "# os.chdir(os.path.normpath(os.getcwd() + os.sep + os.pardir)) #command to go back a directory\n",
    "# os.makedirs('augmented_dataset_1')\n",
    "\n",
    "# making subdirectories for dispersion times:\n",
    "#\n",
    "# os.chdir('/Users/johnmays/Documents/Wirth Lab/still_data/augmented_dataset_1')\n",
    "# dispersion_times = ['01', '03', '08', '15']\n",
    "# for dispersion_time in dispersion_times:\n",
    "#    os.makedirs(dispersion_time)\n",
    "    \n",
    "augmented_data_location = '/Users/johnmays/Documents/Wirth Lab/still_data/augmented_dataset_1/01'"
   ]
  },
  {
   "cell_type": "code",
   "execution_count": 45,
   "id": "82d38fa3",
   "metadata": {},
   "outputs": [],
   "source": [
    "#going back to directory with source_data if we are not in it\n",
    "os.chdir(source_data_location)\n",
    "\n",
    "for filename in os.listdir(source_data_location):\n",
    "    if filename.endswith('.tif'):\n",
    "        img = Image.open(filename)\n",
    "        os.chdir(augmented_data_location)\n",
    "        cropped_img = img.crop((128, 0, 1152, 1024)) # L, T, R, B (does not include bottom-right coordinate)\n",
    "        cropped_img.save(filename[0:-4] + '_cropped_0' + '.tif')\n",
    "        cropped_img.rotate(90).save(filename[0:-4] + '_cropped_90' + '.tif')\n",
    "        cropped_img.rotate(180).save(filename[0:-4] + '_cropped_180' + '.tif')\n",
    "        cropped_img.rotate(270).save(filename[0:-4] + '_cropped_270' + '.tif')\n",
    "        os.chdir(source_data_location)\n",
    "    else:\n",
    "        continue"
   ]
  },
  {
   "cell_type": "code",
   "execution_count": 46,
   "id": "3e7d70a0",
   "metadata": {},
   "outputs": [],
   "source": [
    "source_data_location = '/Users/johnmays/Documents/Wirth Lab/still_data/dataset_1/03'\n",
    "augmented_data_location = '/Users/johnmays/Documents/Wirth Lab/still_data/augmented_dataset_1/03'\n",
    "os.chdir(source_data_location)\n",
    "\n",
    "for filename in os.listdir(source_data_location):\n",
    "    if filename.endswith('.tif'):\n",
    "        img = Image.open(filename)\n",
    "        os.chdir(augmented_data_location)\n",
    "        cropped_img = img.crop((128, 0, 1152, 1024)) # L, T, R, B (does not include bottom-right coordinate)\n",
    "        cropped_img.save(filename[0:-4] + '_cropped_0' + '.tif')\n",
    "        cropped_img.rotate(90).save(filename[0:-4] + '_cropped_90' + '.tif')\n",
    "        cropped_img.rotate(180).save(filename[0:-4] + '_cropped_180' + '.tif')\n",
    "        cropped_img.rotate(270).save(filename[0:-4] + '_cropped_270' + '.tif')\n",
    "        os.chdir(source_data_location)\n",
    "    else:\n",
    "        continue"
   ]
  },
  {
   "cell_type": "code",
   "execution_count": 47,
   "id": "842d51fb",
   "metadata": {},
   "outputs": [],
   "source": [
    "source_data_location = '/Users/johnmays/Documents/Wirth Lab/still_data/dataset_1/08'\n",
    "augmented_data_location = '/Users/johnmays/Documents/Wirth Lab/still_data/augmented_dataset_1/08'\n",
    "os.chdir(source_data_location)\n",
    "\n",
    "for filename in os.listdir(source_data_location):\n",
    "    if filename.endswith('.tif'):\n",
    "        img = Image.open(filename)\n",
    "        os.chdir(augmented_data_location)\n",
    "        cropped_img = img.crop((128, 0, 1152, 1024)) # L, T, R, B (does not include bottom-right coordinate)\n",
    "        cropped_img.save(filename[0:-4] + '_cropped_0' + '.tif')\n",
    "        cropped_img.rotate(90).save(filename[0:-4] + '_cropped_90' + '.tif')\n",
    "        cropped_img.rotate(180).save(filename[0:-4] + '_cropped_180' + '.tif')\n",
    "        cropped_img.rotate(270).save(filename[0:-4] + '_cropped_270' + '.tif')\n",
    "        os.chdir(source_data_location)\n",
    "    else:\n",
    "        continue"
   ]
  },
  {
   "cell_type": "code",
   "execution_count": 48,
   "id": "09844bf4",
   "metadata": {},
   "outputs": [],
   "source": [
    "source_data_location = '/Users/johnmays/Documents/Wirth Lab/still_data/dataset_1/15'\n",
    "augmented_data_location = '/Users/johnmays/Documents/Wirth Lab/still_data/augmented_dataset_1/15'\n",
    "os.chdir(source_data_location)\n",
    "\n",
    "for filename in os.listdir(source_data_location):\n",
    "    if filename.endswith('.tif'):\n",
    "        img = Image.open(filename)\n",
    "        os.chdir(augmented_data_location)\n",
    "        cropped_img = img.crop((128, 0, 1152, 1024)) # L, T, R, B (does not include bottom-right coordinate)\n",
    "        cropped_img.save(filename[0:-4] + '_cropped_0' + '.tif')\n",
    "        cropped_img.rotate(90).save(filename[0:-4] + '_cropped_90' + '.tif')\n",
    "        cropped_img.rotate(180).save(filename[0:-4] + '_cropped_180' + '.tif')\n",
    "        cropped_img.rotate(270).save(filename[0:-4] + '_cropped_270' + '.tif')\n",
    "        os.chdir(source_data_location)\n",
    "    else:\n",
    "        continue"
   ]
  },
  {
   "cell_type": "code",
   "execution_count": null,
   "id": "059f08f9",
   "metadata": {},
   "outputs": [],
   "source": [
    "#thanks"
   ]
  }
 ],
 "metadata": {
  "kernelspec": {
   "display_name": "Python 3",
   "language": "python",
   "name": "python3"
  },
  "language_info": {
   "codemirror_mode": {
    "name": "ipython",
    "version": 3
   },
   "file_extension": ".py",
   "mimetype": "text/x-python",
   "name": "python",
   "nbconvert_exporter": "python",
   "pygments_lexer": "ipython3",
   "version": "3.8.8"
  }
 },
 "nbformat": 4,
 "nbformat_minor": 5
}
