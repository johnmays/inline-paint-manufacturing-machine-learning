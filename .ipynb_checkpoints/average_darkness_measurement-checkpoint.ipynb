{
 "cells": [
  {
   "cell_type": "code",
   "execution_count": 15,
   "id": "ef7f378f",
   "metadata": {},
   "outputs": [],
   "source": [
    "import os\n",
    "from PIL import Image\n",
    "import pickle\n",
    "import matplotlib.pyplot as plt"
   ]
  },
  {
   "cell_type": "code",
   "execution_count": 2,
   "id": "fa794366",
   "metadata": {},
   "outputs": [
    {
     "name": "stdout",
     "output_type": "stream",
     "text": [
      "[0.14189071655273439, 0.1425018310546875, 0.14316253662109374, 0.14322128295898437, 0.14327545166015626, 0.14209213256835937, 0.14204254150390624]\n"
     ]
    }
   ],
   "source": [
    "os.chdir('/Volumes/TOSHIBA EXT/wirthlab PC Backup/071521_John Inverted Testing/071521_images/batch 2/')\n",
    "\n",
    "os.chdir('01')\n",
    "\n",
    "\n",
    "image = Image.open('071521_image_0.tif')\n",
    "width, height = image.size\n",
    "numPixels = width*height\n",
    "    \n",
    "def getAverageDarkness():    \n",
    "    imgNum = 0  \n",
    "    average_darkness_arr = []\n",
    "    \n",
    "    while imgNum < 7:\n",
    "        imageGrayScaleSum=0\n",
    "        image = Image.open('071521_image_' + str(imgNum) + '.tif')\n",
    "        i=0\n",
    "        j=0\n",
    "        while i < width:\n",
    "            while j < height:\n",
    "                pixel = image.getpixel((i,j))\n",
    "                imageGrayScaleSum+=pixel[1]\n",
    "                j+=1\n",
    "            i+=1 \n",
    "        average_darkness_arr.append(imageGrayScaleSum/numPixels)\n",
    "        imgNum+=1\n",
    "    return average_darkness_arr\n",
    "    \n",
    "average_darkness_01 = getAverageDarkness()\n",
    "\n",
    "print(average_darkness_01)"
   ]
  },
  {
   "cell_type": "code",
   "execution_count": 3,
   "id": "4e7423bf",
   "metadata": {},
   "outputs": [
    {
     "name": "stdout",
     "output_type": "stream",
     "text": [
      "[0.14437713623046874, 0.14386215209960937, 0.144061279296875, 0.14431610107421874, 0.14375228881835939, 0.14289169311523436, 0.14191131591796874]\n"
     ]
    }
   ],
   "source": [
    "os.chdir(os.path.normpath(os.getcwd() + os.sep + os.pardir))\n",
    "os.chdir('03')\n",
    "\n",
    "average_darkness_03 = getAverageDarkness()\n",
    "\n",
    "print(average_darkness_03)"
   ]
  },
  {
   "cell_type": "code",
   "execution_count": 4,
   "id": "f9f7c2bd",
   "metadata": {},
   "outputs": [
    {
     "name": "stdout",
     "output_type": "stream",
     "text": [
      "[0.14439239501953124, 0.14453506469726562, 0.14368515014648436, 0.14408187866210936, 0.1429656982421875, 0.14370803833007811, 0.1432373046875]\n"
     ]
    }
   ],
   "source": [
    "os.chdir(os.path.normpath(os.getcwd() + os.sep + os.pardir))\n",
    "os.chdir('08')\n",
    "\n",
    "average_darkness_08 = getAverageDarkness()\n",
    "\n",
    "print(average_darkness_08)"
   ]
  },
  {
   "cell_type": "code",
   "execution_count": 5,
   "id": "b539d80f",
   "metadata": {},
   "outputs": [
    {
     "name": "stdout",
     "output_type": "stream",
     "text": [
      "[0.14433822631835938, 0.14564590454101561, 0.14498214721679686, 0.14545669555664062, 0.14454574584960939, 0.14409561157226564, 0.14550323486328126]\n"
     ]
    }
   ],
   "source": [
    "os.chdir(os.path.normpath(os.getcwd() + os.sep + os.pardir))\n",
    "os.chdir('15')\n",
    "\n",
    "average_darkness_15 = getAverageDarkness()\n",
    "\n",
    "print(average_darkness_15)"
   ]
  },
  {
   "cell_type": "code",
   "execution_count": 11,
   "id": "a027fbbf",
   "metadata": {},
   "outputs": [],
   "source": [
    "pickle.dump(average_darkness_01, open( \"save_01.p\", \"wb\" ))\n",
    "pickle.dump(average_darkness_03, open( \"save_03.p\", \"wb\" ))\n",
    "pickle.dump(average_darkness_08, open( \"save_08.p\", \"wb\" ))\n",
    "pickle.dump(average_darkness_15, open( \"save_15.p\", \"wb\" ))"
   ]
  },
  {
   "cell_type": "code",
   "execution_count": 13,
   "id": "e9815800",
   "metadata": {},
   "outputs": [
    {
     "data": {
      "text/plain": [
       "[0.14189071655273439,\n",
       " 0.1425018310546875,\n",
       " 0.14316253662109374,\n",
       " 0.14322128295898437,\n",
       " 0.14327545166015626,\n",
       " 0.14209213256835937,\n",
       " 0.14204254150390624]"
      ]
     },
     "execution_count": 13,
     "metadata": {},
     "output_type": "execute_result"
    }
   ],
   "source": [
    "# pickle.load(open( \"save_01.p\", \"rb\" ))"
   ]
  },
  {
   "cell_type": "code",
   "execution_count": 19,
   "id": "234f036d",
   "metadata": {},
   "outputs": [
    {
     "data": {
      "text/plain": [
       "<matplotlib.collections.PathCollection at 0x7fe8908cc340>"
      ]
     },
     "execution_count": 19,
     "metadata": {},
     "output_type": "execute_result"
    },
    {
     "data": {
      "image/png": "[encoded data removed]",
      "text/plain": [
       "<Figure size 432x288 with 1 Axes>"
      ]
     },
     "metadata": {
      "needs_background": "light"
     },
     "output_type": "display_data"
    }
   ],
   "source": [
    "x = [1,1,1,1,1,1,1,3,3,3,3,3,3,3,8,8,8,8,8,8,8,15,15,15,15,15,15,15]\n",
    "y = average_darkness_01 + average_darkness_03 + average_darkness_08 + average_darkness_15\n",
    "plt.scatter(x, y)\n",
    "\n",
    "plt.show()"
   ]
  },
  {
   "cell_type": "code",
   "execution_count": null,
   "id": "5a396fbb",
   "metadata": {},
   "outputs": [],
   "source": []
  }
 ],
 "metadata": {
  "kernelspec": {
   "display_name": "Python 3",
   "language": "python",
   "name": "python3"
  },
  "language_info": {
   "codemirror_mode": {
    "name": "ipython",
    "version": 3
   },
   "file_extension": ".py",
   "mimetype": "text/x-python",
   "name": "python",
   "nbconvert_exporter": "python",
   "pygments_lexer": "ipython3",
   "version": "3.8.8"
  }
 },
 "nbformat": 4,
 "nbformat_minor": 5
}
