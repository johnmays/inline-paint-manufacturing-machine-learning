{
 "cells": [
  {
   "cell_type": "code",
   "execution_count": 5,
   "id": "ef7f378f",
   "metadata": {},
   "outputs": [],
   "source": [
    "import os\n",
    "from PIL import Image"
   ]
  },
  {
   "cell_type": "code",
   "execution_count": 9,
   "id": "33477d1d",
   "metadata": {},
   "outputs": [],
   "source": [
    "os.chdir('/Volumes/TOSHIBA EXT/wirthlab PC Backup/071521_John Inverted Testing/071521_images/batch 2/01')"
   ]
  },
  {
   "cell_type": "code",
   "execution_count": 10,
   "id": "fa794366",
   "metadata": {},
   "outputs": [],
   "source": [
    "image = Image.open('071521_image_0.tif')"
   ]
  },
  {
   "cell_type": "code",
   "execution_count": 15,
   "id": "5d3d7bd4",
   "metadata": {},
   "outputs": [
    {
     "name": "stdout",
     "output_type": "stream",
     "text": [
      "TIFF\n"
     ]
    }
   ],
   "source": [
    "print(image.format)"
   ]
  },
  {
   "cell_type": "code",
   "execution_count": 21,
   "id": "f9f7c2bd",
   "metadata": {},
   "outputs": [
    {
     "name": "stdout",
     "output_type": "stream",
     "text": [
      "(1280, 1024)\n"
     ]
    }
   ],
   "source": [
    "width, height = image.size\n",
    "print(image.size)"
   ]
  },
  {
   "cell_type": "code",
   "execution_count": 22,
   "id": "b539d80f",
   "metadata": {},
   "outputs": [
    {
     "name": "stdout",
     "output_type": "stream",
     "text": [
      "182\n"
     ]
    }
   ],
   "source": [
    "pixel = image.getpixel((0,0))\n",
    "print(pixel[1])"
   ]
  },
  {
   "cell_type": "code",
   "execution_count": 29,
   "id": "a027fbbf",
   "metadata": {},
   "outputs": [
    {
     "name": "stdout",
     "output_type": "stream",
     "text": [
      "185979\n"
     ]
    }
   ],
   "source": [
    "imageGrayScaleSum = 0\n",
    "i=0\n",
    "j=0\n",
    "while i < width:\n",
    "    while j < height:\n",
    "        pixel = image.getpixel((i,j))\n",
    "        imageGrayScaleSum+=pixel[1]\n",
    "        j+=1\n",
    "    i+=1\n",
    "print(imageGrayScaleSum)"
   ]
  },
  {
   "cell_type": "code",
   "execution_count": null,
   "id": "e9815800",
   "metadata": {},
   "outputs": [],
   "source": []
  }
 ],
 "metadata": {
  "kernelspec": {
   "display_name": "Python 3",
   "language": "python",
   "name": "python3"
  },
  "language_info": {
   "codemirror_mode": {
    "name": "ipython",
    "version": 3
   },
   "file_extension": ".py",
   "mimetype": "text/x-python",
   "name": "python",
   "nbconvert_exporter": "python",
   "pygments_lexer": "ipython3",
   "version": "3.8.8"
  }
 },
 "nbformat": 4,
 "nbformat_minor": 5
}
