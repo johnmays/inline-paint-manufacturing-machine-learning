{
 "cells": [
  {
   "cell_type": "code",
   "execution_count": 1,
   "id": "ef7f378f",
   "metadata": {},
   "outputs": [],
   "source": [
    "#ML APIs\n",
    "import tensorflow as tf\n",
    "from tensorflow import keras\n",
    "\n",
    "# file handling\n",
    "from pathlib import Path\n",
    "import os\n",
    "import glob\n",
    "import shutil\n",
    "\n",
    "#numbers and metrics\n",
    "import random\n",
    "import numpy as np\n",
    "from matplotlib import pyplot as plt\n",
    "from sklearn.metrics import confusion_matrix"
   ]
  },
  {
   "cell_type": "code",
   "execution_count": 2,
   "id": "fa794366",
   "metadata": {},
   "outputs": [
    {
     "name": "stdout",
     "output_type": "stream",
     "text": [
      "[184.88544921875, 185.62717208862304, 186.17128372192383, 185.93770370483398, 186.46111984252929, 184.78125610351563, 184.82225646972657]\n"
     ]
    }
   ],
   "source": [
    "Path.cwd()\n",
    "train_set_path = 'D:/still_image_data'\n",
    "os.chdir(train_set_path)"
   ]
  },
  {
   "cell_type": "code",
   "execution_count": 3,
   "id": "4e7423bf",
   "metadata": {},
   "outputs": [
    {
     "name": "stdout",
     "output_type": "stream",
     "text": [
      "[187.92154922485352, 187.0570861816406, 187.55879592895508, 187.79489440917968, 186.7566360473633, 185.91422958374022, 184.41840209960938]\n"
     ]
    }
   ],
   "source": [
    "classes = [1,3,8,15]"
   ]
  },
  {
   "cell_type": "code",
   "execution_count": 4,
   "id": "f9f7c2bd",
   "metadata": {},
   "outputs": [
    {
     "name": "stdout",
     "output_type": "stream",
     "text": [
      "[188.12891998291016, 188.4167167663574, 187.14433822631835, 188.17069320678712, 187.3791618347168, 187.02800216674805, 186.3671676635742]\n"
     ]
    }
   ],
   "source": []
  },
  {
   "cell_type": "code",
   "execution_count": 5,
   "id": "b539d80f",
   "metadata": {},
   "outputs": [
    {
     "name": "stdout",
     "output_type": "stream",
     "text": [
      "[188.26298904418945, 189.69166412353516, 188.64395980834962, 188.96307067871095, 188.2059768676758, 187.48338088989257, 189.57924194335936]\n"
     ]
    }
   ],
   "source": [
    "from keras.models import Sequential\n",
    "from keras.layers import Dense, Flatten"
   ]
  },
  {
   "cell_type": "code",
   "execution_count": 7,
   "id": "a027fbbf",
   "metadata": {},
   "outputs": [],
   "source": [
    "network = Sequential([\n",
    "    Flatten(),\n",
    "    Dense(units=64, activation=tf.nn.relu),\n",
    "    Dense(units=64, activation=tf.nn.relu),\n",
    "    Dense(units=4, activation=tf.nn.softmax)\n",
    "    \n",
    "])\n",
    "\n",
    "#network.summary()"
   ]
  },
  {
   "cell_type": "code",
   "execution_count": 8,
   "id": "e9815800",
   "metadata": {},
   "outputs": [],
   "source": [
    "network.compile(optimizer='adam',loss='sparse_categorical_crossentropy',metrics=['accuracy'])"
   ]
  },
  {
   "cell_type": "code",
   "execution_count": null,
   "id": "52de0bcc",
   "metadata": {},
   "outputs": [],
   "source": [
    "network.fit(x_train,y_train,epochs=4, validation_split=0.21)"
   ]
  },
  {
   "cell_type": "code",
   "execution_count": 25,
   "id": "65511f40",
   "metadata": {},
   "outputs": [
    {
     "name": "stdout",
     "output_type": "stream",
     "text": [
      "36.36250795636858\n"
     ]
    }
   ],
   "source": [
    "val_loss, val_accuracy = network.evaluate(x_test,y_test)\n",
    "print(val_loss)\n",
    "print(val_accuracy)\n",
    "network.summary()\n",
    "\n",
    "\n",
    "network.save('081621_weights_save')"
   ]
  },
  {
   "cell_type": "code",
   "execution_count": null,
   "id": "eb97ecde",
   "metadata": {},
   "outputs": [],
   "source": []
  }
 ],
 "metadata": {
  "kernelspec": {
   "display_name": "Python 3",
   "language": "python",
   "name": "python3"
  },
  "language_info": {
   "codemirror_mode": {
    "name": "ipython",
    "version": 3
   },
   "file_extension": ".py",
   "mimetype": "text/x-python",
   "name": "python",
   "nbconvert_exporter": "python",
   "pygments_lexer": "ipython3",
   "version": "3.8.8"
  }
 },
 "nbformat": 4,
 "nbformat_minor": 5
}
