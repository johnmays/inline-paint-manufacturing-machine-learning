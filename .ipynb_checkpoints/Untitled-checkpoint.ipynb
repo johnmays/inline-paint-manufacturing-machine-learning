{
 "cells": [
  {
   "cell_type": "code",
   "execution_count": 5,
   "id": "8a593b26",
   "metadata": {},
   "outputs": [],
   "source": [
    "import os\n",
    "from PIL import Image"
   ]
  },
  {
   "cell_type": "code",
   "execution_count": 9,
   "id": "c91b7548",
   "metadata": {},
   "outputs": [],
   "source": [
    "os.chdir('/Volumes/TOSHIBA EXT/wirthlab PC Backup/071521_John Inverted Testing/071521_images/batch 2/01')"
   ]
  },
  {
   "cell_type": "code",
   "execution_count": 10,
   "id": "35ed6c40",
   "metadata": {},
   "outputs": [],
   "source": [
    "image = Image.open('071521_image_0.tif')"
   ]
  },
  {
   "cell_type": "code",
   "execution_count": 15,
   "id": "a5ba055e",
   "metadata": {},
   "outputs": [
    {
     "name": "stdout",
     "output_type": "stream",
     "text": [
      "TIFF\n"
     ]
    }
   ],
   "source": [
    "print(image.format)"
   ]
  },
  {
   "cell_type": "code",
   "execution_count": 21,
   "id": "7e1d98b3",
   "metadata": {},
   "outputs": [
    {
     "name": "stdout",
     "output_type": "stream",
     "text": [
      "(1280, 1024)\n"
     ]
    }
   ],
   "source": [
    "width, height = image.size\n",
    "print(image.size)"
   ]
  },
  {
   "cell_type": "code",
   "execution_count": 22,
   "id": "49b59959",
   "metadata": {},
   "outputs": [
    {
     "name": "stdout",
     "output_type": "stream",
     "text": [
      "182\n"
     ]
    }
   ],
   "source": [
    "pixel = image.getpixel((0,0))\n",
    "print(pixel[1])"
   ]
  },
  {
   "cell_type": "code",
   "execution_count": 29,
   "id": "cacfb2cd",
   "metadata": {},
   "outputs": [
    {
     "name": "stdout",
     "output_type": "stream",
     "text": [
      "185979\n"
     ]
    }
   ],
   "source": [
    "imageGrayScaleSum = 0\n",
    "i=0\n",
    "j=0\n",
    "while i < width:\n",
    "    while j < height:\n",
    "        pixel = image.getpixel((i,j))\n",
    "        imageGrayScaleSum+=pixel[1]\n",
    "        j+=1\n",
    "    i+=1\n",
    "print(imageGrayScaleSum)"
   ]
  },
  {
   "cell_type": "code",
   "execution_count": null,
   "id": "cd1a599c",
   "metadata": {},
   "outputs": [],
   "source": []
  }
 ],
 "metadata": {
  "kernelspec": {
   "display_name": "Python 3",
   "language": "python",
   "name": "python3"
  },
  "language_info": {
   "codemirror_mode": {
    "name": "ipython",
    "version": 3
   },
   "file_extension": ".py",
   "mimetype": "text/x-python",
   "name": "python",
   "nbconvert_exporter": "python",
   "pygments_lexer": "ipython3",
   "version": "3.8.8"
  }
 },
 "nbformat": 4,
 "nbformat_minor": 5
}
