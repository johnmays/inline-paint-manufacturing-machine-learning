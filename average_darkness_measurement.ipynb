{
 "cells": [
  {
   "cell_type": "code",
   "execution_count": 1,
   "id": "ef7f378f",
   "metadata": {},
   "outputs": [],
   "source": [
    "import os\n",
    "from PIL import Image\n",
    "import pickle\n",
    "import matplotlib.pyplot as plt"
   ]
  },
  {
   "cell_type": "code",
   "execution_count": 2,
   "id": "fa794366",
   "metadata": {},
   "outputs": [
    {
     "name": "stdout",
     "output_type": "stream",
     "text": [
      "[36.182132720947266, 36.33796691894531, 36.506446838378906, 36.521427154541016, 36.535240173339844, 36.23349380493164, 36.220848083496094]\n"
     ]
    }
   ],
   "source": [
    "os.chdir('/Volumes/TOSHIBA EXT/wirthlab PC Backup/071521_John Inverted Testing/071521_images/batch 2/')\n",
    "\n",
    "os.chdir('01')\n",
    "\n",
    "\n",
    "image = Image.open('071521_image_0.tif')\n",
    "width, height = image.size\n",
    "numPixels = width*height\n",
    "    \n",
    "def getAverageBrightness():    \n",
    "    imgNum = 0  \n",
    "    average_brightness_arr = []\n",
    "    \n",
    "    while imgNum < 7:\n",
    "        imageGrayScaleSum=0\n",
    "        image = Image.open('071521_image_' + str(imgNum) + '.tif')\n",
    "        i=0\n",
    "        j=0\n",
    "        while i < width:\n",
    "            while j < height:\n",
    "                pixel = image.getpixel((i,j))\n",
    "                imageGrayScaleSum+=pixel[1]\n",
    "                j+=1\n",
    "            i+=1 \n",
    "        average_brightness_arr.append(255.0*(imageGrayScaleSum/numPixels))\n",
    "        imgNum+=1\n",
    "    return average_brightness_arr\n",
    "    \n",
    "average_brightness_01 = getAverageBrightness()\n",
    "\n",
    "print(average_brightness_01)"
   ]
  },
  {
   "cell_type": "code",
   "execution_count": 3,
   "id": "4e7423bf",
   "metadata": {},
   "outputs": [
    {
     "name": "stdout",
     "output_type": "stream",
     "text": [
      "[36.81616973876953, 36.68484878540039, 36.735626220703125, 36.80060577392578, 36.65683364868164, 36.437381744384766, 36.18738555908203]\n"
     ]
    }
   ],
   "source": [
    "os.chdir(os.path.normpath(os.getcwd() + os.sep + os.pardir))\n",
    "os.chdir('03')\n",
    "\n",
    "average_brightness_03 = getAverageBrightness()\n",
    "\n",
    "print(average_brightness_03)"
   ]
  },
  {
   "cell_type": "code",
   "execution_count": 4,
   "id": "f9f7c2bd",
   "metadata": {},
   "outputs": [
    {
     "name": "stdout",
     "output_type": "stream",
     "text": [
      "[36.82006072998047, 36.856441497802734, 36.639713287353516, 36.74087905883789, 36.45625305175781, 36.64554977416992, 36.5255126953125]\n"
     ]
    }
   ],
   "source": [
    "os.chdir(os.path.normpath(os.getcwd() + os.sep + os.pardir))\n",
    "os.chdir('08')\n",
    "\n",
    "average_brightness_08 = getAverageBrightness()\n",
    "\n",
    "print(average_brightness_08)"
   ]
  },
  {
   "cell_type": "code",
   "execution_count": 5,
   "id": "b539d80f",
   "metadata": {},
   "outputs": [
    {
     "name": "stdout",
     "output_type": "stream",
     "text": [
      "[36.80624771118164, 37.139705657958984, 36.9704475402832, 37.09145736694336, 36.85916519165039, 36.744380950927734, 37.10332489013672]\n"
     ]
    }
   ],
   "source": [
    "os.chdir(os.path.normpath(os.getcwd() + os.sep + os.pardir))\n",
    "os.chdir('15')\n",
    "\n",
    "average_brightness_15 = getAverageBrightness()\n",
    "\n",
    "print(average_brightness_15)"
   ]
  },
  {
   "cell_type": "code",
   "execution_count": 9,
   "id": "a027fbbf",
   "metadata": {},
   "outputs": [],
   "source": [
    "pickle.dump(average_brightness_01, open( \"save_01.p\", \"wb\" ))\n",
    "pickle.dump(average_brightness_03, open( \"save_03.p\", \"wb\" ))\n",
    "pickle.dump(average_brightness_08, open( \"save_08.p\", \"wb\" ))\n",
    "pickle.dump(average_brightness_15, open( \"save_15.p\", \"wb\" ))"
   ]
  },
  {
   "cell_type": "code",
   "execution_count": 4,
   "id": "e9815800",
   "metadata": {},
   "outputs": [],
   "source": [
    "# average_brightness_01 = pickle.load(open( \"save_01.p\", \"rb\" ))\n",
    "# average_brightness_03 = pickle.load(open( \"save_03.p\", \"rb\" ))\n",
    "# average_brightness_08 = pickle.load(open( \"save_08.p\", \"rb\" ))\n",
    "# average_brightness_15 = pickle.load(open( \"save_15.p\", \"rb\" ))"
   ]
  },
  {
   "cell_type": "code",
   "execution_count": 7,
   "id": "52de0bcc",
   "metadata": {},
   "outputs": [
    {
     "data": {
      "image/png": "[encoded data removed]",
      "text/plain": [
       "<Figure size 432x288 with 1 Axes>"
      ]
     },
     "metadata": {
      "needs_background": "light"
     },
     "output_type": "display_data"
    }
   ],
   "source": [
    "x = [1,1,1,1,1,1,1,3,3,3,3,3,3,3,8,8,8,8,8,8,8,15,15,15,15,15,15,15]\n",
    "y = average_brightness_01 + average_brightness_03 + average_brightness_08 + average_brightness_15\n",
    "plt.scatter(x, y)\n",
    "plt.xlabel('Dispersion Time')\n",
    "plt.ylabel('Average Brightness (RGB Average)')\n",
    "plt.title('Dispersion Time vs. Average Image Brightness')\n",
    "\n",
    "plt.show()"
   ]
  },
  {
   "cell_type": "code",
   "execution_count": null,
   "id": "65511f40",
   "metadata": {},
   "outputs": [],
   "source": []
  },
  {
   "cell_type": "code",
   "execution_count": null,
   "id": "eb97ecde",
   "metadata": {},
   "outputs": [],
   "source": []
  }
 ],
 "metadata": {
  "kernelspec": {
   "display_name": "Python 3",
   "language": "python",
   "name": "python3"
  },
  "language_info": {
   "codemirror_mode": {
    "name": "ipython",
    "version": 3
   },
   "file_extension": ".py",
   "mimetype": "text/x-python",
   "name": "python",
   "nbconvert_exporter": "python",
   "pygments_lexer": "ipython3",
   "version": "3.8.8"
  }
 },
 "nbformat": 4,
 "nbformat_minor": 5
}
